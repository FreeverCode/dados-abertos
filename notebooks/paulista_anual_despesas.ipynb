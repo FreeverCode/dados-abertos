{
  "nbformat": 4,
  "nbformat_minor": 0,
  "metadata": {
    "colab": {
      "provenance": [],
      "toc_visible": true
    },
    "kernelspec": {
      "name": "python3",
      "display_name": "Python 3"
    },
    "language_info": {
      "name": "python"
    }
  },
  "cells": [
    {
      "cell_type": "code",
      "execution_count": 1,
      "metadata": {
        "colab": {
          "base_uri": "https://localhost:8080/"
        },
        "id": "PIuCzZ4187gz",
        "outputId": "36af1cba-a501-454f-c34a-cc718f29f02a"
      },
      "outputs": [
        {
          "output_type": "stream",
          "name": "stdout",
          "text": [
            "rm: cannot remove 'dados-abertos/': No such file or directory\n",
            "Cloning into 'dados-abertos'...\n",
            "remote: Enumerating objects: 106, done.\u001b[K\n",
            "remote: Counting objects: 100% (106/106), done.\u001b[K\n",
            "remote: Compressing objects: 100% (63/63), done.\u001b[K\n",
            "remote: Total 106 (delta 19), reused 57 (delta 13), pack-reused 0\u001b[K\n",
            "Receiving objects: 100% (106/106), 2.36 MiB | 7.42 MiB/s, done.\n",
            "Resolving deltas: 100% (19/19), done.\n"
          ]
        }
      ],
      "source": [
        "!rm -r dados-abertos/\n",
        "!git clone https://github.com/SertaoTechnology/dados-abertos.git"
      ]
    },
    {
      "cell_type": "markdown",
      "source": [
        "# Imports"
      ],
      "metadata": {
        "id": "faU2njCJecVC"
      }
    },
    {
      "cell_type": "code",
      "source": [
        "import re\n",
        "\n",
        "from glob import glob\n",
        "from collections import OrderedDict\n",
        "\n",
        "import pandas as pd\n",
        "import numpy as np"
      ],
      "metadata": {
        "id": "ppC_VLDq9CA4"
      },
      "execution_count": 2,
      "outputs": []
    },
    {
      "cell_type": "markdown",
      "source": [
        "# Carregando Arquivos"
      ],
      "metadata": {
        "id": "tG4J5vNNegAP"
      }
    },
    {
      "cell_type": "code",
      "source": [
        "file_base_despesas = \"dados-abertos/arquivos/raw/paulista/despesas/anual\"\n",
        "\n",
        "file_paths_despesa_total = sorted(\n",
        "    glob(f\"{file_base_despesas}/despesa_total/*.csv\")\n",
        ")\n",
        "\n",
        "file_paths_despesa_detalhada = sorted(\n",
        "    glob(f\"{file_base_despesas}/despesa_detalhada_unidade/*.csv\")\n",
        ")\n",
        "\n",
        "file_paths_despesa_credor_empenho = sorted(\n",
        "    glob(f\"{file_base_despesas}/despesa_credor_empenho/*.csv\")\n",
        ")\n",
        "\n",
        "file_paths_despesa_funcional_programatica = sorted(\n",
        "    glob(f\"{file_base_despesas}/despesa_funcional_programatica/*.csv\")\n",
        ")"
      ],
      "metadata": {
        "id": "vrxuRG8bErHi"
      },
      "execution_count": 3,
      "outputs": []
    },
    {
      "cell_type": "markdown",
      "source": [
        "# Carrega arquivos de multiplos CSVs como um único DataFrame"
      ],
      "metadata": {
        "id": "HgQBHzpm45aa"
      }
    },
    {
      "cell_type": "code",
      "source": [
        "def merge_csv(file_paths: list) -> pd.DataFrame:\n",
        "  dfs = list()\n",
        "  for file_path in file_paths:\n",
        "      df = pd.read_csv(file_path, sep=';')\n",
        "      result = re.search('\\w+(\\d{4}).csv', file_path)\n",
        "      if result:\n",
        "          ano = int(result.groups()[0])\n",
        "          df['ano'] = ano\n",
        "      else:\n",
        "          df['ano'] = pd.NA\n",
        "      dfs.append(df)\n",
        "\n",
        "  despesa_total = pd.concat(dfs, axis=0, ignore_index=True)\n",
        "  return despesa_total"
      ],
      "metadata": {
        "id": "1cUyIwWv9JfW"
      },
      "execution_count": 4,
      "outputs": []
    },
    {
      "cell_type": "markdown",
      "source": [
        "# Preenche as linhas NaN com os valores das linhas anteriores."
      ],
      "metadata": {
        "id": "k8yUm3gV5Fsg"
      }
    },
    {
      "cell_type": "code",
      "source": [
        "class FillNanColumns:\n",
        "\n",
        "    def __init__(self, *columns):\n",
        "        self.columns = OrderedDict()\n",
        "        for column in columns:\n",
        "            self.columns[column] = None\n",
        "    \n",
        "    def __call__(self, row):\n",
        "        for key, value in self.columns.items():\n",
        "            if all(row[[key]].notna()):\n",
        "                self.columns[key] = row[key]\n",
        "                break\n",
        "            elif value:\n",
        "                row[key] = value\n",
        "        return row.apply(lambda x: x.lower() if isinstance(x, str) else x)"
      ],
      "metadata": {
        "id": "fYMVO9ShGHLa"
      },
      "execution_count": 5,
      "outputs": []
    },
    {
      "cell_type": "markdown",
      "source": [
        "# Converte as colunas de valores BR para float"
      ],
      "metadata": {
        "id": "ou4KGYKn5QMP"
      }
    },
    {
      "cell_type": "code",
      "source": [
        "class ConvertStringToNumeric:\n",
        "\n",
        "    def __init__(self, *columns):\n",
        "        self.columns = columns\n",
        "    \n",
        "    def __call__(self, row):\n",
        "        for column in self.columns:\n",
        "            row[column] = pd.to_numeric(row[column].replace('.', '').replace(',', '.'))\n",
        "        return row"
      ],
      "metadata": {
        "id": "wywUYrV92drr"
      },
      "execution_count": 6,
      "outputs": []
    },
    {
      "cell_type": "markdown",
      "source": [
        "# Aplicado tratamentos\n",
        "\n",
        "Os arquivos de **despesa_credor_empenho** não precisam receber o tratamento de colunas NaN e nem de colunas numéricas que estão como string."
      ],
      "metadata": {
        "id": "FR2vsGmD3P-i"
      }
    },
    {
      "cell_type": "code",
      "source": [
        "despesa_total = merge_csv(file_paths_despesa_total)\n",
        "despesa_detalhada = merge_csv(file_paths_despesa_detalhada)\n",
        "despesa_credor_empenho = merge_csv(file_paths_despesa_credor_empenho)\n",
        "despesa_funcional_programatica = merge_csv(file_paths_despesa_funcional_programatica)"
      ],
      "metadata": {
        "id": "_QTH7yEdvr95"
      },
      "execution_count": 7,
      "outputs": []
    },
    {
      "cell_type": "code",
      "source": [
        "string_columns = FillNanColumns(\n",
        "    'Categoria Econômica', 'Grupo de despesa', 'Elemento', 'Subelemento'\n",
        ")\n",
        "\n",
        "numeric_colmuns = ConvertStringToNumeric(\n",
        "    'Dotação Inicial', 'Dotação Atualizada', 'Empenhado (E)',\n",
        "    'Liquidado', 'Pago (P)'\n",
        ")\n",
        "\n",
        "despesa_total = despesa_total.apply(\n",
        "    string_columns, axis=1).dropna().apply(numeric_colmuns, axis=1)"
      ],
      "metadata": {
        "id": "CNeSN-NGrqad"
      },
      "execution_count": 8,
      "outputs": []
    },
    {
      "cell_type": "code",
      "source": [
        "string_columns = FillNanColumns(\n",
        "    \"Órgão\", \"Unidade\", \"Categoria Econômica\",\n",
        "    \"Grupo de despesa\", \"Elemento\", \"Subelemento\"\n",
        ")\n",
        "\n",
        "numeric_colmuns = ConvertStringToNumeric(\n",
        "    \"Dotação Inicial\", \"Dotação Atualizada\", \"Empenhado (P)\",\n",
        "    \"Liquidado\", \"Pago (P)\", \"P/E\"\n",
        ")\n",
        "\n",
        "despesa_detalhada = despesa_detalhada.apply(\n",
        "    string_columns, axis=1\n",
        ").dropna().apply(numeric_colmuns, axis=1)"
      ],
      "metadata": {
        "id": "5K1inSExwc-B"
      },
      "execution_count": 9,
      "outputs": []
    },
    {
      "cell_type": "code",
      "source": [
        "string_columns = FillNanColumns(\n",
        "    \"Função\", \"Subfunção\", \"Programa\",\n",
        "    \"Projeto/Atividade/Operações Especiais\", \"Ação\"\n",
        ")\n",
        "\n",
        "numeric_colmuns = ConvertStringToNumeric(\n",
        "    \"Dotação Inicial\", \"Dotação Atualizada\", \"Empenhado (E)\",\n",
        "    \"Liquidado\", \"Pago (P)\", \"P/E\"\n",
        ")\n",
        "\n",
        "despesa_funcional_programatica = despesa_funcional_programatica.apply(\n",
        "    string_columns, axis=1\n",
        ").dropna().apply(numeric_colmuns, axis=1)"
      ],
      "metadata": {
        "id": "tPS_M2B40ZaT"
      },
      "execution_count": 10,
      "outputs": []
    },
    {
      "cell_type": "markdown",
      "source": [
        "# Salva os DataFrames como arquivos CSV"
      ],
      "metadata": {
        "id": "HX2emYOM4HhM"
      }
    },
    {
      "cell_type": "code",
      "source": [
        "despesa_total.to_csv(\"despesa_total.csv\", sep=\";\", index=False)\n",
        "despesa_detalhada.to_csv(\"despesa_detalhada.csv\", sep=\";\", index=False)\n",
        "despesa_credor_empenho.to_csv(\"despesa_credor_empenho.csv\", sep=\";\", index=False)\n",
        "despesa_funcional_programatica.to_csv(\"despesa_funcional_programatica.csv\", sep=\";\", index=False)"
      ],
      "metadata": {
        "id": "McO-UkBJ9nlG"
      },
      "execution_count": 11,
      "outputs": []
    }
  ]
}